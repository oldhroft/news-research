{
 "cells": [
  {
   "cell_type": "code",
   "execution_count": 1,
   "metadata": {},
   "outputs": [
    {
     "name": "stderr",
     "output_type": "stream",
     "text": [
      "/Users/u17518516/.conda/envs/news-research/lib/python3.7/site-packages/dask/dataframe/utils.py:13: FutureWarning: pandas.util.testing is deprecated. Use the functions in the public API at pandas.testing instead.\n",
      "  import pandas.util.testing as tm\n"
     ]
    }
   ],
   "source": [
    "import pandas as pd\n",
    "import dask.bag as db\n",
    "import dask.dataframe as dd\n",
    "import json\n",
    "import datetime\n",
    "import os\n",
    "import glob\n",
    "\n",
    "import matplotlib.pyplot as plt\n",
    "import seaborn as sns\n",
    "\n",
    "sns.set()"
   ]
  },
  {
   "cell_type": "code",
   "execution_count": 2,
   "metadata": {},
   "outputs": [],
   "source": [
    "processed_path = 'data/processed.json'\n",
    "\n",
    "if os.path.exists(processed_path):\n",
    "    with open(processed_path, encoding='utf-8', mode='r') as file:\n",
    "        processed = json.load(file)\n",
    "else:\n",
    "    processed = []"
   ]
  },
  {
   "cell_type": "code",
   "execution_count": 3,
   "metadata": {},
   "outputs": [],
   "source": [
    "all_posts = glob.glob('posts/file*.jsonl')\n",
    "\n",
    "new_posts = list(set(all_posts).difference(processed))\n",
    "posts = (db.read_text(new_posts)\n",
    "           .map(json.loads))\n",
    "n_posts = posts.map(lambda x: 1).sum()"
   ]
  },
  {
   "cell_type": "code",
   "execution_count": 4,
   "metadata": {},
   "outputs": [
    {
     "name": "stdout",
     "output_type": "stream",
     "text": [
      "Number of posts, total 532374\n"
     ]
    }
   ],
   "source": [
    "n_posts_computed = n_posts.compute()\n",
    "print(\"Number of posts, total\", n_posts_computed)"
   ]
  },
  {
   "cell_type": "code",
   "execution_count": 5,
   "metadata": {},
   "outputs": [],
   "source": [
    "freq = posts.pluck('group').frequencies()"
   ]
  },
  {
   "cell_type": "code",
   "execution_count": 6,
   "metadata": {},
   "outputs": [
    {
     "name": "stdout",
     "output_type": "stream",
     "text": [
      "CPU times: user 33.4 ms, sys: 46.3 ms, total: 79.7 ms\n",
      "Wall time: 8.69 s\n"
     ]
    }
   ],
   "source": [
    "%%time\n",
    "freq_comp = freq.compute()"
   ]
  },
  {
   "cell_type": "code",
   "execution_count": 7,
   "metadata": {},
   "outputs": [
    {
     "data": {
      "text/plain": [
       "Text(0, 0.5, 'Group')"
      ]
     },
     "execution_count": 7,
     "metadata": {},
     "output_type": "execute_result"
    },
    {
     "data": {
      "image/png": "[encoded data removed]",
      "text/plain": [
       "<Figure size 720x288 with 1 Axes>"
      ]
     },
     "metadata": {
      "needs_background": "light"
     },
     "output_type": "display_data"
    }
   ],
   "source": [
    "(pd.Series(dict(freq_comp))\n",
    "   .sort_values(ascending=False)\n",
    "   .plot\n",
    "   .bar(figsize=(10, 4)))\n",
    "\n",
    "plt.title('Number of posts per group')\n",
    "plt.ylabel('Number of posts')\n",
    "plt.ylabel(\"Group\")"
   ]
  },
  {
   "cell_type": "code",
   "execution_count": 8,
   "metadata": {},
   "outputs": [],
   "source": [
    "def flatten(x):\n",
    "    y = {}\n",
    "    y['group'] = x['group']\n",
    "    y['date'] = x['date']\n",
    "    y['text'] = x['text']\n",
    "    y['likes'] = x['likes']['count']\n",
    "    y['reposts'] = x['reposts']['count']\n",
    "    y['views'] = x['views']['count'] if \"views\" in x else -1\n",
    "    y['marked_as_ads'] = bool(x['marked_as_ads'])\n",
    "    return y\n",
    "\n",
    "posts_flattened = posts.map(flatten)\n",
    "\n",
    "ddf = (posts_flattened.to_dataframe()\n",
    "                      .astype({'group': 'category'})\n",
    "                      .repartition(npartitions=12))"
   ]
  },
  {
   "cell_type": "code",
   "execution_count": 9,
   "metadata": {},
   "outputs": [],
   "source": [
    "df = ddf.compute()\n",
    "df.index = range(len(df))"
   ]
  },
  {
   "cell_type": "code",
   "execution_count": 10,
   "metadata": {},
   "outputs": [
    {
     "data": {
      "text/plain": [
       "Index              0.000122\n",
       "group              0.508657\n",
       "date               4.061691\n",
       "text             354.682018\n",
       "likes              4.061691\n",
       "reposts            4.061691\n",
       "views              4.061691\n",
       "marked_as_ads      0.507711\n",
       "dtype: float64"
      ]
     },
     "execution_count": 10,
     "metadata": {},
     "output_type": "execute_result"
    }
   ],
   "source": [
    "mem_usg = df.memory_usage(deep=True) / 1024 ** 2\n",
    "mem_usg"
   ]
  },
  {
   "cell_type": "code",
   "execution_count": 11,
   "metadata": {},
   "outputs": [
    {
     "name": "stderr",
     "output_type": "stream",
     "text": [
      "/Users/u17518516/.conda/envs/news-research/lib/python3.7/site-packages/pyarrow/pandas_compat.py:383: FutureWarning: RangeIndex._start is deprecated and will be removed in a future version. Use RangeIndex.start instead\n",
      "  'start': level._start,\n",
      "/Users/u17518516/.conda/envs/news-research/lib/python3.7/site-packages/pyarrow/pandas_compat.py:384: FutureWarning: RangeIndex._stop is deprecated and will be removed in a future version. Use RangeIndex.stop instead\n",
      "  'stop': level._stop,\n",
      "/Users/u17518516/.conda/envs/news-research/lib/python3.7/site-packages/pyarrow/pandas_compat.py:385: FutureWarning: RangeIndex._step is deprecated and will be removed in a future version. Use RangeIndex.step instead\n",
      "  'step': level._step\n"
     ]
    }
   ],
   "source": [
    "df.to_parquet('data/news.parq', partition_cols=['group'])"
   ]
  },
  {
   "cell_type": "code",
   "execution_count": 12,
   "metadata": {},
   "outputs": [],
   "source": [
    "with open('data/processed.json', encoding='utf-8', mode='w') as file:\n",
    "    json.dump(all_posts, file)"
   ]
  },
  {
   "cell_type": "code",
   "execution_count": 13,
   "metadata": {},
   "outputs": [
    {
     "name": "stdout",
     "output_type": "stream",
     "text": [
      "[\"posts/file_fontanka_2021-03-26.jsonl\", \"posts/file_rbc_2021-03-26.jsonl\", \"posts/file_batenka_ru_2021-03-27.jsonl\", \"posts/file_true_lentach_2021-03-23.jsonl\", \"posts/file_ria_2021-03-24.jsonl\", \"posts/file_currenttime_2021-03-24.jsonl\", \"posts/file_novgaz_2021-03-27.jsonl\", \"posts/file_readovkanews_2021-03-27.jsonl\", \"posts/file_chaosss_now_2021-03-24.jsonl\", \"posts/file_plohie_novosti_mc_2021-03-27.jsonl\", \"posts/file_lentaru_2021-03-25.jsonl\", \"posts/file_echomsk_2021-03-24.jsonl\", \"posts/file_satyrabezsortyra_2021-03-27.jsonl\", \"posts/file_rt_russian_2021-03-25.jsonl\", \"posts/file_lentaru_2021-03-24.jsonl\", \"posts/file_lentach_2021-03-24.jsonl\", \"posts/file_ia_panorama_2021-03-24.jsonl\", \"posts/file_bbc_2021-03-23.jsonl\", \"posts/file_meduzaproject_2021-03-27.jsonl\", \"posts/file_tsargradtv_2021-03-25.jsonl\"]"
     ]
    }
   ],
   "source": [
    "! cat data/processed.json"
   ]
  },
  {
   "cell_type": "code",
   "execution_count": null,
   "metadata": {},
   "outputs": [],
   "source": []
  }
 ],
 "metadata": {
  "kernelspec": {
   "display_name": "Python 3",
   "language": "python",
   "name": "python3"
  },
  "language_info": {
   "codemirror_mode": {
    "name": "ipython",
    "version": 3
   },
   "file_extension": ".py",
   "mimetype": "text/x-python",
   "name": "python",
   "nbconvert_exporter": "python",
   "pygments_lexer": "ipython3",
   "version": "3.7.1"
  }
 },
 "nbformat": 4,
 "nbformat_minor": 2
}
