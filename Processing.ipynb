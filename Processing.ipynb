{
 "cells": [
  {
   "cell_type": "code",
   "execution_count": 42,
   "metadata": {},
   "outputs": [],
   "source": [
    "import pandas as pd\n",
    "import dask.bag as db\n",
    "import dask.dataframe as dd\n",
    "import json\n",
    "import datetime\n",
    "import os\n",
    "import glob\n",
    "\n",
    "import matplotlib.pyplot as plt\n",
    "import seaborn as sns\n",
    "\n",
    "sns.set()"
   ]
  },
  {
   "cell_type": "code",
   "execution_count": 43,
   "metadata": {},
   "outputs": [],
   "source": [
    "processed_path = 'data/processed.json'\n",
    "\n",
    "if os.path.exists(processed_path):\n",
    "    with open(processed_path, encoding='utf-8', mode='r') as file:\n",
    "        processed = json.load(file)\n",
    "else:\n",
    "    processed = []"
   ]
  },
  {
   "cell_type": "code",
   "execution_count": 44,
   "metadata": {},
   "outputs": [],
   "source": [
    "all_posts = glob.glob('posts/file*.jsonl')\n",
    "\n",
    "new_posts = list(set(all_posts).difference(processed))\n",
    "posts = (db.read_text(new_posts)\n",
    "           .map(json.loads))\n",
    "n_posts = posts.map(lambda x: 1).sum()"
   ]
  },
  {
   "cell_type": "code",
   "execution_count": 49,
   "metadata": {},
   "outputs": [],
   "source": [
    "s = posts.take(300)[-1]"
   ]
  },
  {
   "cell_type": "code",
   "execution_count": 5,
   "metadata": {},
   "outputs": [
    {
     "name": "stdout",
     "output_type": "stream",
     "text": [
      "Number of posts, total 227290\n"
     ]
    }
   ],
   "source": [
    "n_posts_computed = n_posts.compute()\n",
    "print(\"Number of posts, total\", n_posts_computed)"
   ]
  },
  {
   "cell_type": "code",
   "execution_count": 6,
   "metadata": {},
   "outputs": [],
   "source": [
    "freq = posts.pluck('group').frequencies()"
   ]
  },
  {
   "cell_type": "code",
   "execution_count": 7,
   "metadata": {},
   "outputs": [
    {
     "name": "stdout",
     "output_type": "stream",
     "text": [
      "CPU times: user 27.4 ms, sys: 41.9 ms, total: 69.3 ms\n",
      "Wall time: 7.38 s\n"
     ]
    }
   ],
   "source": [
    "%%time\n",
    "freq_comp = freq.compute()"
   ]
  },
  {
   "cell_type": "code",
   "execution_count": 9,
   "metadata": {},
   "outputs": [
    {
     "data": {
      "text/plain": [
       "Text(0, 0.5, 'Group')"
      ]
     },
     "execution_count": 9,
     "metadata": {},
     "output_type": "execute_result"
    },
    {
     "data": {
      "image/png": "[encoded data removed]",
      "text/plain": [
       "<Figure size 720x288 with 1 Axes>"
      ]
     },
     "metadata": {},
     "output_type": "display_data"
    }
   ],
   "source": [
    "(pd.Series(dict(freq_comp))\n",
    "   .sort_values(ascending=False)\n",
    "   .plot\n",
    "   .bar(figsize=(10, 4)))\n",
    "\n",
    "plt.title('Number of posts per group')\n",
    "plt.ylabel('Number of posts')\n",
    "plt.ylabel(\"Group\")"
   ]
  },
  {
   "cell_type": "code",
   "execution_count": 35,
   "metadata": {},
   "outputs": [],
   "source": [
    "def flatten(x):\n",
    "    y = {}\n",
    "    y['group'] = x['group']\n",
    "    y['date'] = x['date']\n",
    "    y['text'] = x['text']\n",
    "    y['likes'] = x['likes']['count']\n",
    "    y['reposts'] = x['reposts']['count']\n",
    "    y['user_reposts'] = x['reposts']\n",
    "    y['views'] = x['views']['count'] if \"views\" in x else -1\n",
    "    y['marked_as_ads'] = bool(x['marked_as_ads'])\n",
    "    return y\n",
    "\n",
    "posts_flattened = posts.map(flatten)\n",
    "\n",
    "ddf = (posts_flattened.to_dataframe()\n",
    "                      .astype({'group': 'category'})\n",
    "                      .repartition(npartitions=12))"
   ]
  },
  {
   "cell_type": "code",
   "execution_count": 36,
   "metadata": {},
   "outputs": [],
   "source": [
    "df = ddf.compute()\n",
    "df.index = range(len(df))"
   ]
  },
  {
   "cell_type": "code",
   "execution_count": 37,
   "metadata": {},
   "outputs": [
    {
     "data": {
      "text/plain": [
       "Index              0.000122\n",
       "group              0.217223\n",
       "date               1.734085\n",
       "text             203.520060\n",
       "likes              1.734085\n",
       "reposts            1.734085\n",
       "views              1.734085\n",
       "marked_as_ads      0.216761\n",
       "dtype: float64"
      ]
     },
     "execution_count": 37,
     "metadata": {},
     "output_type": "execute_result"
    }
   ],
   "source": [
    "mem_usg = df.memory_usage(deep=True) / 1024 ** 2\n",
    "mem_usg"
   ]
  },
  {
   "cell_type": "code",
   "execution_count": 39,
   "metadata": {},
   "outputs": [],
   "source": [
    "!rm -rf data/news.parq"
   ]
  },
  {
   "cell_type": "code",
   "execution_count": 40,
   "metadata": {},
   "outputs": [
    {
     "name": "stderr",
     "output_type": "stream",
     "text": [
      "/Users/u17518516/.conda/envs/news-research/lib/python3.7/site-packages/pyarrow/pandas_compat.py:383: FutureWarning: RangeIndex._start is deprecated and will be removed in a future version. Use RangeIndex.start instead\n",
      "  'start': level._start,\n",
      "/Users/u17518516/.conda/envs/news-research/lib/python3.7/site-packages/pyarrow/pandas_compat.py:384: FutureWarning: RangeIndex._stop is deprecated and will be removed in a future version. Use RangeIndex.stop instead\n",
      "  'stop': level._stop,\n",
      "/Users/u17518516/.conda/envs/news-research/lib/python3.7/site-packages/pyarrow/pandas_compat.py:385: FutureWarning: RangeIndex._step is deprecated and will be removed in a future version. Use RangeIndex.step instead\n",
      "  'step': level._step\n"
     ]
    }
   ],
   "source": [
    "df.to_parquet('data/news.parq', partition_cols=['group'])"
   ]
  },
  {
   "cell_type": "code",
   "execution_count": 18,
   "metadata": {},
   "outputs": [],
   "source": [
    "with open('data/processed.json', encoding='utf-8', mode='w') as file:\n",
    "    json.dump(all_posts, file)"
   ]
  },
  {
   "cell_type": "code",
   "execution_count": 41,
   "metadata": {},
   "outputs": [
    {
     "name": "stdout",
     "output_type": "stream",
     "text": [
      "[\"posts/file_true_lentach_2021-03-23.jsonl\", \"posts/file_currenttime_2021-03-24.jsonl\", \"posts/file_chaosss_now_2021-03-24.jsonl\", \"posts/file_echomsk_2021-03-24.jsonl\", \"posts/file_lentach_2021-03-24.jsonl\", \"posts/file_bbc_2021-03-23.jsonl\"]"
     ]
    }
   ],
   "source": [
    "! cat data/processed.json"
   ]
  }
 ],
 "metadata": {
  "kernelspec": {
   "display_name": "Python 3",
   "language": "python",
   "name": "python3"
  },
  "language_info": {
   "codemirror_mode": {
    "name": "ipython",
    "version": 3
   },
   "file_extension": ".py",
   "mimetype": "text/x-python",
   "name": "python",
   "nbconvert_exporter": "python",
   "pygments_lexer": "ipython3",
   "version": "3.7.1"
  }
 },
 "nbformat": 4,
 "nbformat_minor": 2
}
