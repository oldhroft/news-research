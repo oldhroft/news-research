{
 "cells": [
  {
   "cell_type": "code",
   "execution_count": 1,
   "metadata": {},
   "outputs": [
    {
     "name": "stderr",
     "output_type": "stream",
     "text": [
      "/Users/u17518516/.conda/envs/news-research/lib/python3.7/site-packages/dask/dataframe/utils.py:13: FutureWarning: pandas.util.testing is deprecated. Use the functions in the public API at pandas.testing instead.\n",
      "  import pandas.util.testing as tm\n"
     ]
    }
   ],
   "source": [
    "import pandas as pd\n",
    "import dask.bag as db\n",
    "import dask.dataframe as dd\n",
    "import json\n",
    "import datetime"
   ]
  },
  {
   "cell_type": "code",
   "execution_count": 2,
   "metadata": {},
   "outputs": [],
   "source": [
    "posts = (db.read_text('posts/file*.jsonl')\n",
    "           .map(json.loads))"
   ]
  },
  {
   "cell_type": "code",
   "execution_count": 3,
   "metadata": {},
   "outputs": [],
   "source": [
    "def flatten(x):\n",
    "    y = {}\n",
    "    y['group'] = x['group']\n",
    "    y['date'] = x['date']\n",
    "    y['text'] = x['text']\n",
    "    y['likes'] = x['likes']['count']\n",
    "    y['marked_as_ads'] = bool(x['marked_as_ads'])\n",
    "    return y\n",
    "\n",
    "posts_flattened = posts.map(flatten)"
   ]
  },
  {
   "cell_type": "code",
   "execution_count": 4,
   "metadata": {},
   "outputs": [],
   "source": [
    "freq = posts.pluck('group').frequencies()"
   ]
  },
  {
   "cell_type": "code",
   "execution_count": 5,
   "metadata": {},
   "outputs": [
    {
     "name": "stdout",
     "output_type": "stream",
     "text": [
      "CPU times: user 47.4 ms, sys: 37.6 ms, total: 85.1 ms\n",
      "Wall time: 10.1 s\n"
     ]
    }
   ],
   "source": [
    "%%time\n",
    "freq_comp = freq.compute()"
   ]
  },
  {
   "cell_type": "code",
   "execution_count": 8,
   "metadata": {},
   "outputs": [
    {
     "data": {
      "text/plain": [
       "bbc                     54898\n",
       "chaosss_now              7414\n",
       "currenttime             20975\n",
       "echomsk                 61233\n",
       "eshkin_krot              3099\n",
       "ia_panorama              3794\n",
       "lentaru                124867\n",
       "mbkhmedia               11937\n",
       "mediazzzona             23136\n",
       "meduzaproject           59690\n",
       "novgaz                  53261\n",
       "novostnaya_lenta_vk      2658\n",
       "oldlentach              29002\n",
       "orangeeast              20568\n",
       "rublacklist              9547\n",
       "satyrabezsortyra        41551\n",
       "svobodaradio            51015\n",
       "takiedela_ru            14678\n",
       "tj                      73473\n",
       "true_lentach            21404\n",
       "tsargradtv             102997\n",
       "tv.jihad                 2709\n",
       "tvrain                 119969\n",
       "dtype: int64"
      ]
     },
     "execution_count": 8,
     "metadata": {},
     "output_type": "execute_result"
    }
   ],
   "source": [
    "pd.Series(dict(freq_comp))"
   ]
  },
  {
   "cell_type": "code",
   "execution_count": 9,
   "metadata": {},
   "outputs": [],
   "source": [
    "min_date = posts.pluck('date').min()"
   ]
  },
  {
   "cell_type": "code",
   "execution_count": 10,
   "metadata": {},
   "outputs": [
    {
     "data": {
      "text/plain": [
       "datetime.datetime(2010, 8, 27, 19, 27, 22)"
      ]
     },
     "execution_count": 10,
     "metadata": {},
     "output_type": "execute_result"
    }
   ],
   "source": [
    "min_date_comp = datetime.datetime.fromtimestamp(min_date.compute())\n",
    "min_date_comp"
   ]
  },
  {
   "cell_type": "code",
   "execution_count": 11,
   "metadata": {},
   "outputs": [],
   "source": [
    "def mean(x):\n",
    "    x = list(x)\n",
    "    return sum(x) / len(x)\n",
    "\n",
    "\n",
    "means = (posts_flattened\n",
    "         .groupby(lambda x: x['group'])\n",
    "         .map(lambda x: (x[0], mean(y['marked_as_ads'] for y in x[1]))))"
   ]
  },
  {
   "cell_type": "code",
   "execution_count": 12,
   "metadata": {},
   "outputs": [
    {
     "name": "stdout",
     "output_type": "stream",
     "text": [
      "CPU times: user 45.6 s, sys: 3.82 s, total: 49.4 s\n",
      "Wall time: 51.7 s\n"
     ]
    },
    {
     "data": {
      "text/plain": [
       "[('orangeeast', 0.0028199144301828084),\n",
       " ('mbkhmedia', 8.377314233056883e-05),\n",
       " ('rublacklist', 0.0),\n",
       " ('tsargradtv', 3.88360826043477e-05),\n",
       " ('satyrabezsortyra', 7.220042838920844e-05),\n",
       " ('tv.jihad', 0.0),\n",
       " ('takiedela_ru', 0.0),\n",
       " ('lentaru', 2.4025563199243997e-05),\n",
       " ('currenttime', 0.0),\n",
       " ('tj', 0.0011841084480013065),\n",
       " ('eshkin_krot', 0.0),\n",
       " ('echomsk', 0.0005552561527281041),\n",
       " ('svobodaradio', 1.9602077820248946e-05),\n",
       " ('ia_panorama', 0.0),\n",
       " ('tvrain', 6.66838933391126e-05),\n",
       " ('novostnaya_lenta_vk', 0.0018811136192626034),\n",
       " ('bbc', 0.0002550183977558381),\n",
       " ('true_lentach', 0.0023827321995888617),\n",
       " ('chaosss_now', 0.03371998920960345),\n",
       " ('mediazzzona', 0.0),\n",
       " ('oldlentach', 0.010585476863664576),\n",
       " ('novgaz', 9.387732111676462e-05),\n",
       " ('meduzaproject', 0.0)]"
      ]
     },
     "execution_count": 12,
     "metadata": {},
     "output_type": "execute_result"
    }
   ],
   "source": [
    "%%time\n",
    "means.compute()"
   ]
  },
  {
   "cell_type": "code",
   "execution_count": 13,
   "metadata": {},
   "outputs": [],
   "source": [
    "ddf = (posts_flattened.to_dataframe()\n",
    "                      .astype({'group': 'category', \n",
    "                               'text': 'string'})\n",
    "                      .repartition(npartitions=12))"
   ]
  },
  {
   "cell_type": "code",
   "execution_count": 14,
   "metadata": {},
   "outputs": [],
   "source": [
    "ddf_per = ddf.persist()"
   ]
  },
  {
   "cell_type": "code",
   "execution_count": 15,
   "metadata": {},
   "outputs": [],
   "source": [
    "means = ddf.groupby('group').marked_as_ads.mean()"
   ]
  },
  {
   "cell_type": "code",
   "execution_count": 17,
   "metadata": {},
   "outputs": [],
   "source": [
    "means = ddf_per.groupby('group').marked_as_ads.mean()"
   ]
  },
  {
   "cell_type": "code",
   "execution_count": 18,
   "metadata": {},
   "outputs": [
    {
     "name": "stdout",
     "output_type": "stream",
     "text": [
      "CPU times: user 73.7 ms, sys: 10.4 ms, total: 84.1 ms\n",
      "Wall time: 62.5 ms\n"
     ]
    }
   ],
   "source": [
    "%%time\n",
    "means_comp = means.compute(scheduler='threads')"
   ]
  },
  {
   "cell_type": "code",
   "execution_count": 19,
   "metadata": {},
   "outputs": [],
   "source": [
    "df = ddf.compute()"
   ]
  },
  {
   "cell_type": "code",
   "execution_count": 60,
   "metadata": {},
   "outputs": [
    {
     "name": "stdout",
     "output_type": "stream",
     "text": [
      "CPU times: user 3.97 ms, sys: 2.26 ms, total: 6.23 ms\n",
      "Wall time: 5.07 ms\n"
     ]
    }
   ],
   "source": [
    "%%time\n",
    "means = df.groupby('group').marked_as_ads.mean()"
   ]
  },
  {
   "cell_type": "code",
   "execution_count": 81,
   "metadata": {},
   "outputs": [
    {
     "name": "stderr",
     "output_type": "stream",
     "text": [
      "/Users/u17518516/.conda/envs/news-research/lib/python3.7/site-packages/dask/dataframe/core.py:2259: UserWarning: `meta` is not specified, inferred from partial data. Please provide `meta` if the result is unexpected.\n",
      "  Before: .apply(func)\n",
      "  After:  .apply(func, meta={'x': 'f8', 'y': 'f8'}) for dataframe result\n",
      "  or:     .apply(func, meta=('x', 'f8'))            for series result\n",
      "  warnings.warn(msg)\n"
     ]
    }
   ],
   "source": [
    "lens = (ddf_per['text'].astype('object')\n",
    "                       .str.split()\n",
    "                       .apply(len).mean())"
   ]
  },
  {
   "cell_type": "code",
   "execution_count": 83,
   "metadata": {},
   "outputs": [
    {
     "data": {
      "text/plain": [
       "40.25878109435694"
      ]
     },
     "execution_count": 83,
     "metadata": {},
     "output_type": "execute_result"
    }
   ],
   "source": [
    "lens.compute()"
   ]
  },
  {
   "cell_type": "code",
   "execution_count": 22,
   "metadata": {},
   "outputs": [],
   "source": [
    "import os\n",
    "os.mkdir('data')"
   ]
  },
  {
   "cell_type": "code",
   "execution_count": 23,
   "metadata": {},
   "outputs": [],
   "source": [
    "df.to_csv('data/texts.csv')"
   ]
  },
  {
   "cell_type": "code",
   "execution_count": 2,
   "metadata": {},
   "outputs": [],
   "source": [
    "df = pd.read_csv('data/texts.csv')"
   ]
  },
  {
   "cell_type": "code",
   "execution_count": 6,
   "metadata": {},
   "outputs": [
    {
     "data": {
      "text/plain": [
       "Index(['lentaru', 'tvrain', 'tsargradtv', 'tj', 'echomsk', 'meduzaproject',\n",
       "       'bbc', 'novgaz', 'svobodaradio', 'satyrabezsortyra', 'oldlentach',\n",
       "       'mediazzzona', 'true_lentach', 'currenttime', 'orangeeast',\n",
       "       'takiedela_ru', 'mbkhmedia', 'rublacklist', 'chaosss_now',\n",
       "       'ia_panorama', 'eshkin_krot', 'tv.jihad', 'novostnaya_lenta_vk'],\n",
       "      dtype='object')"
      ]
     },
     "execution_count": 6,
     "metadata": {},
     "output_type": "execute_result"
    }
   ],
   "source": [
    "df.group.value_counts().index"
   ]
  },
  {
   "cell_type": "code",
   "execution_count": 11,
   "metadata": {},
   "outputs": [
    {
     "data": {
      "text/plain": [
       "array(['bbc', 'chaosss_now', 'currenttime', 'echomsk', 'eshkin_krot',\n",
       "       'ia_panorama', 'lentaru', 'mbkhmedia', 'mediazzzona',\n",
       "       'meduzaproject', 'novgaz', 'novostnaya_lenta_vk', 'oldlentach',\n",
       "       'orangeeast', 'rublacklist', 'satyrabezsortyra', 'svobodaradio',\n",
       "       'takiedela_ru', 'tj', 'true_lentach', 'tsargradtv', 'tv.jihad',\n",
       "       'tvrain'], dtype=object)"
      ]
     },
     "execution_count": 11,
     "metadata": {},
     "output_type": "execute_result"
    }
   ],
   "source": [
    "df.group.unique()"
   ]
  },
  {
   "cell_type": "code",
   "execution_count": null,
   "metadata": {},
   "outputs": [],
   "source": [
    "groups = ['bbc', 'chaosss_now', 'currenttime', 'echomsk', 'eshkin_krot',\n",
    "       'ia_panorama', 'lentaru', 'mbkhmedia', 'mediazzzona',\n",
    "       'meduzaproject', 'novgaz', 'novostnaya_lenta_vk', 'oldlentach',\n",
    "       'orangeeast', 'rublacklist', 'satyrabezsortyra', 'svobodaradio',\n",
    "       'takiedela_ru', 'tj', 'true_lentach', 'tsargradtv', 'tv.jihad',\n",
    "       'tvrain']"
   ]
  }
 ],
 "metadata": {
  "kernelspec": {
   "display_name": "Python 3",
   "language": "python",
   "name": "python3"
  },
  "language_info": {
   "codemirror_mode": {
    "name": "ipython",
    "version": 3
   },
   "file_extension": ".py",
   "mimetype": "text/x-python",
   "name": "python",
   "nbconvert_exporter": "python",
   "pygments_lexer": "ipython3",
   "version": "3.7.1"
  }
 },
 "nbformat": 4,
 "nbformat_minor": 2
}
